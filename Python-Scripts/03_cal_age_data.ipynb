{
 "cells": [
  {
   "cell_type": "markdown",
   "metadata": {
    "tags": []
   },
   "source": [
    "# Load libraries"
   ]
  },
  {
   "cell_type": "code",
   "execution_count": null,
   "metadata": {},
   "outputs": [],
   "source": [
    "import os\n",
    "import pandas as pd\n",
    "import numpy as np\n",
    "from datetime import datetime"
   ]
  },
  {
   "cell_type": "markdown",
   "metadata": {},
   "source": [
    "# Prepare dataset"
   ]
  },
  {
   "cell_type": "code",
   "execution_count": null,
   "metadata": {},
   "outputs": [],
   "source": [
    "date_today = datetime.today().strftime('%Y-%m-%d')\n",
    "df = pd.read_csv('cal_age_data_all_'+date_today+'.txt', sep='\\t',parse_dates=['Date/Time'])"
   ]
  },
  {
   "cell_type": "code",
   "execution_count": null,
   "metadata": {},
   "outputs": [],
   "source": [
    "pd.concat([df.head(2),df.tail(2)])"
   ]
  },
  {
   "cell_type": "markdown",
   "metadata": {},
   "source": [
    "# Merge duplicate columns, resort columns"
   ]
  },
  {
   "cell_type": "code",
   "execution_count": null,
   "metadata": {},
   "outputs": [],
   "source": [
    "### combine columns, seperate two values with \",\"\n",
    "df['Calendar age [ka BP], method:Age, 14C calibrated, Bacon 2.2 (Blaauw and Christen, 2011)'] = df[['Calendar age [ka BP], method:Age, 14C calibrated, Bacon 2.2 (Blaauw and Christen, 2011)','Calendar age [ka BP]']].apply(lambda x: ','.join(x.dropna().astype(str)), axis=1)"
   ]
  },
  {
   "cell_type": "code",
   "execution_count": null,
   "metadata": {},
   "outputs": [],
   "source": [
    "### combine columns, seperate two values with \",\"\n",
    "df['Calendar age, maximum/old [ka BP], method:Age, 14C calibrated, Bacon 2.2 (Blaauw and Christen, 2011)'] = df[['Calendar age, maximum/old [ka BP], method:Age, 14C calibrated, Bacon 2.2 (Blaauw and Christen, 2011)', 'Calendar age, maximum/old [ka BP]']].apply(lambda x: ','.join(x.dropna().astype(str)), axis=1)"
   ]
  },
  {
   "cell_type": "code",
   "execution_count": null,
   "metadata": {},
   "outputs": [],
   "source": [
    "\n",
    "### combine columns, seperate two values with \",\"\n",
    "df['Calendar age, minimum/young [ka BP], method:Age, 14C calibrated, Bacon 2.2 (Blaauw and Christen, 2011)'] = df[['Calendar age, minimum/young [ka BP], method:Age, 14C calibrated, Bacon 2.2 (Blaauw and Christen, 2011)', 'Calendar age, minimum/young [ka BP]']].apply(lambda x: ','.join(x.dropna().astype(str)), axis=1)"
   ]
  },
  {
   "cell_type": "code",
   "execution_count": null,
   "metadata": {},
   "outputs": [],
   "source": [
    "### new order\n",
    "df = df[['DOI', 'Event', 'Latitude [deg]', 'Longitude [deg]', 'Elevation [m]',\n",
    "       'DEPTH, sediment/rock [m]',\n",
    "       'Calendar age [ka BP], method:Age, 14C calibrated, OxCal 4.2.4, P sequence deposition model',\n",
    "       'Calendar age, maximum/old [ka BP], method:Age, 14C calibrated, OxCal 4.2.4, P sequence deposition model',\n",
    "       'Calendar age, minimum/young [ka BP], method:Age, 14C calibrated, OxCal 4.2.4, P sequence deposition model',         \n",
    "       'Calendar age [ka BP], method:Age, 14C calibrated, Bacon 2.2 (Blaauw and Christen, 2011)',\n",
    "       'Calendar age, maximum/old [ka BP], method:Age, 14C calibrated, Bacon 2.2 (Blaauw and Christen, 2011)',\n",
    "       'Calendar age, minimum/young [ka BP], method:Age, 14C calibrated, Bacon 2.2 (Blaauw and Christen, 2011)']]"
   ]
  },
  {
   "cell_type": "code",
   "execution_count": null,
   "metadata": {},
   "outputs": [],
   "source": [
    "pd.concat( [df.head(2),df.tail(2)] )"
   ]
  },
  {
   "cell_type": "code",
   "execution_count": null,
   "metadata": {},
   "outputs": [],
   "source": [
    "df.to_csv('cal_age_data_all_'+date_today+'.txt', sep='\\t', encoding='utf-8', index=False)"
   ]
  },
  {
   "cell_type": "code",
   "execution_count": null,
   "metadata": {},
   "outputs": [],
   "source": []
  }
 ],
 "metadata": {
  "kernelspec": {
   "display_name": "Python [conda env:pangaeapy]",
   "language": "python",
   "name": "conda-env-pangaeapy-py"
  },
  "language_info": {
   "codemirror_mode": {
    "name": "ipython",
    "version": 3
   },
   "file_extension": ".py",
   "mimetype": "text/x-python",
   "name": "python",
   "nbconvert_exporter": "python",
   "pygments_lexer": "ipython3",
   "version": "3.13.1"
  }
 },
 "nbformat": 4,
 "nbformat_minor": 4
}

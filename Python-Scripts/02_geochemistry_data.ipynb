{
 "cells": [
  {
   "cell_type": "markdown",
   "metadata": {
    "tags": []
   },
   "source": [
    "# Load libraries"
   ]
  },
  {
   "cell_type": "code",
   "execution_count": null,
   "metadata": {},
   "outputs": [],
   "source": [
    "import os\n",
    "import pandas as pd\n",
    "import numpy as np\n",
    "from datetime import datetime"
   ]
  },
  {
   "cell_type": "markdown",
   "metadata": {},
   "source": [
    "# Prepare dataset"
   ]
  },
  {
   "cell_type": "code",
   "execution_count": null,
   "metadata": {},
   "outputs": [],
   "source": [
    "date_today = datetime.today().strftime('%Y-%m-%d')\n",
    "df = pd.read_csv('geochem_data_all_'+date_today+'.txt', sep='\\t',parse_dates=['Date/Time'])"
   ]
  },
  {
   "cell_type": "code",
   "execution_count": null,
   "metadata": {},
   "outputs": [],
   "source": [
    "pd.concat([df.head(2),df.tail(2)])"
   ]
  },
  {
   "cell_type": "markdown",
   "metadata": {},
   "source": [
    "# Merge duplicate columns, resort columns"
   ]
  },
  {
   "cell_type": "code",
   "execution_count": null,
   "metadata": {},
   "outputs": [],
   "source": [
    "### combine columns, seperate two values with \",\"\n",
    "df['DEPTH, sediment/rock [m]'] = df[['DEPTH, sediment/rock [m]','DEPTH, sediment/rock [m], comment:Sample midpoint depth']].apply(lambda x: ','.join(x.dropna().astype(str)), axis=1)"
   ]
  },
  {
   "cell_type": "code",
   "execution_count": null,
   "metadata": {},
   "outputs": [],
   "source": [
    "### combine columns, seperate two values with \",\"\n",
    "df['Peat type, col nr:6'] = df[['Peat type, col nr:4','Peat type, col nr:6','Peat type, col nr:7','Peat type, col nr:8']].apply(lambda x: ','.join(x.dropna().astype(str)), axis=1)\n",
    "df.rename(columns={'Peat type, col nr:6':'Peat type'}, inplace=True)"
   ]
  },
  {
   "cell_type": "code",
   "execution_count": null,
   "metadata": {},
   "outputs": [],
   "source": [
    "### combine columns, seperate two values with \",\"\n",
    "df['Peat type'] = df[['Peat type', 'Peat type, comment:Loisel et al. 2014']].apply(lambda x: ','.join(x.dropna().astype(str)), axis=1)"
   ]
  },
  {
   "cell_type": "code",
   "execution_count": null,
   "metadata": {},
   "outputs": [],
   "source": [
    "### combine columns, seperate two values with \",\"\n",
    "df['AGE [ka BP]'] = df[['AGE [ka BP]','AGE [ka BP], method:see comment']].apply(lambda x: ','.join(x.dropna().astype(str)), axis=1)"
   ]
  },
  {
   "cell_type": "code",
   "execution_count": null,
   "metadata": {},
   "outputs": [],
   "source": [
    "### combine columns, seperate two values with \",\"\n",
    "df['Organic matter [%]'] = df[['Organic matter [%]','Loss on ignition [%]']].apply(lambda x: ','.join(x.dropna().astype(str)), axis=1)"
   ]
  },
  {
   "cell_type": "code",
   "execution_count": null,
   "metadata": {},
   "outputs": [],
   "source": [
    "### combine columns, seperate two values with \",\"\n",
    "df['Carbon [%]'] = df[['Carbon [%]','Carbon [%], method:Computed/Converted']].apply(lambda x: ','.join(x.dropna().astype(str)), axis=1)"
   ]
  },
  {
   "cell_type": "code",
   "execution_count": null,
   "metadata": {},
   "outputs": [],
   "source": [
    "### combine columns, seperate two values with \",\"\n",
    "df['Carbon, total [%]'] = df[['Carbon, total [%]','Carbon, total [%], method:Carbon/nitrogen analyser']].apply(lambda x: ','.join(x.dropna().astype(str)), axis=1)"
   ]
  },
  {
   "cell_type": "code",
   "execution_count": null,
   "metadata": {},
   "outputs": [],
   "source": [
    "### combine columns, seperate two values with \",\"\n",
    "df['Carbon, organic, total [%]'] = df[['Carbon, organic, total [%]','Carbon, organic, total [%], method:Carbon/nitrogen analyser']].apply(lambda x: ','.join(x.dropna().astype(str)), axis=1)"
   ]
  },
  {
   "cell_type": "code",
   "execution_count": null,
   "metadata": {},
   "outputs": [],
   "source": [
    "### combine columns, seperate two values with \",\"\n",
    "df['Density, organic carbon [g/cm**3]'] = df[['Density, organic carbon [g/cm**3]','Density, organic carbon [g/cm**3], method:Estimated']].apply(lambda x: ','.join(x.dropna().astype(str)), axis=1)"
   ]
  },
  {
   "cell_type": "code",
   "execution_count": null,
   "metadata": {},
   "outputs": [],
   "source": [
    "### combine columns, seperate two values with \",\"\n",
    "df['Nitrogen, total [%]'] = df[['Nitrogen, total [%]','Nitrogen, total [%], method:Carbon/nitrogen analyser']].apply(lambda x: ','.join(x.dropna().astype(str)), axis=1)"
   ]
  },
  {
   "cell_type": "code",
   "execution_count": null,
   "metadata": {},
   "outputs": [],
   "source": [
    "### new order\n",
    "df = df[['DOI', 'Event', 'Latitude [deg]', 'Longitude [deg]', 'Elevation [m]',\n",
    "       'DEPTH, sediment/rock [m]', 'DEPTH, sediment/rock [m], comment:LOI sample depth','AGE [ka BP]',\n",
    "       'Sample volume [cm**3]', 'Sample thickness [cm]',\n",
    "       'Cumulative mass [g/cm**2]','Sedimentation rate per year [cm/a]','Peat carbon accumulation rate per year [g/m**2/a]',\n",
    "       'Density, dry bulk [g/cm**3]','Water content, wet mass [%]',\n",
    "       'Organic matter [%]', 'Density, organic matter [g/cm**3]',\n",
    "       'Carbon [%]', 'Carbon, total [%]','Carbon, organic, total [%]', 'Density, organic carbon [g/cm**3]',\n",
    "       'Carbon, inorganic, total [%]','Nitrogen, total [%]',\n",
    "       'Peat type','Comment']]"
   ]
  },
  {
   "cell_type": "code",
   "execution_count": null,
   "metadata": {},
   "outputs": [],
   "source": [
    "pd.concat( [df.head(2),df.tail(2)] )"
   ]
  },
  {
   "cell_type": "code",
   "execution_count": null,
   "metadata": {},
   "outputs": [],
   "source": [
    "df.to_csv('geochem_data_all_'+date_today+'.txt', sep='\\t', encoding='utf-8', index=False)"
   ]
  },
  {
   "cell_type": "code",
   "execution_count": null,
   "metadata": {},
   "outputs": [],
   "source": []
  }
 ],
 "metadata": {
  "kernelspec": {
   "display_name": "Python [conda env:pangaeapy]",
   "language": "python",
   "name": "conda-env-pangaeapy-py"
  },
  "language_info": {
   "codemirror_mode": {
    "name": "ipython",
    "version": 3
   },
   "file_extension": ".py",
   "mimetype": "text/x-python",
   "name": "python",
   "nbconvert_exporter": "python",
   "pygments_lexer": "ipython3",
   "version": "3.13.1"
  }
 },
 "nbformat": 4,
 "nbformat_minor": 4
}
